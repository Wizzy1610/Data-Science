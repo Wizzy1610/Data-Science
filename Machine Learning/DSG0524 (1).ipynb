{
 "cells": [
  {
   "cell_type": "code",
   "execution_count": 1,
   "id": "3cda5e69-f63d-4452-b4cd-40f5b5916134",
   "metadata": {},
   "outputs": [
    {
     "name": "stdout",
     "output_type": "stream",
     "text": [
      "Hello Data Science\n"
     ]
    }
   ],
   "source": [
    "print (\"Hello Data Science\")"
   ]
  },
  {
   "cell_type": "code",
   "execution_count": 3,
   "id": "53ac24e7-9b2f-43e9-80ac-643eb85c1a33",
   "metadata": {},
   "outputs": [
    {
     "name": "stdout",
     "output_type": "stream",
     "text": [
      "My Name is Wisdom Ofohaorji\n"
     ]
    }
   ],
   "source": [
    "print (\"My Name is Wisdom Ofohaorji\")"
   ]
  },
  {
   "cell_type": "code",
   "execution_count": 5,
   "id": "7a64f39c-5e60-4e62-8216-ed71e9f6cd68",
   "metadata": {},
   "outputs": [
    {
     "data": {
      "text/plain": [
       "50"
      ]
     },
     "execution_count": 5,
     "metadata": {},
     "output_type": "execute_result"
    }
   ],
   "source": [
    "24+26"
   ]
  },
  {
   "cell_type": "code",
   "execution_count": null,
   "id": "83b84b17-7fa5-43ae-aeec-33b3ff434f9b",
   "metadata": {},
   "outputs": [],
   "source": []
  }
 ],
 "metadata": {
  "kernelspec": {
   "display_name": "Python 3 (ipykernel)",
   "language": "python",
   "name": "python3"
  },
  "language_info": {
   "codemirror_mode": {
    "name": "ipython",
    "version": 3
   },
   "file_extension": ".py",
   "mimetype": "text/x-python",
   "name": "python",
   "nbconvert_exporter": "python",
   "pygments_lexer": "ipython3",
   "version": "3.11.7"
  }
 },
 "nbformat": 4,
 "nbformat_minor": 5
}
